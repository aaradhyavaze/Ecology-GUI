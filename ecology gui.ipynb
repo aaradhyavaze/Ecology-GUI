{
 "cells": [
  {
   "cell_type": "code",
   "execution_count": 17,
   "metadata": {
    "slideshow": {
     "slide_type": "-"
    }
   },
   "outputs": [
    {
     "name": "stdout",
     "output_type": "stream",
     "text": [
      "hit enter. We're about to flash some pictures\n"
     ]
    }
   ],
   "source": [
    "# replace the image by the collage of the images to be shown or something like that. I've made a counter ( set to 1.024 seconds)\n",
    "\n",
    "\n",
    "from PIL import Image\n",
    "import subprocess\n",
    "import time\n",
    "\n",
    "'''images = [\n",
    "    \"Pictures/logo_medium_tinteyantoo.png\",\n",
    "    \"Pictures/minimal sunrise.png\",\n",
    "    \"Pictures/temp4.png\",\n",
    "]\n",
    "'''\n",
    "def killtime():\n",
    "    kill1 = time.time()\n",
    "    elapsed = 0\n",
    "    while elapsed < 1.024:\n",
    "        kill2 = time.time()\n",
    "        elapsed = kill2 - kill1\n",
    "    return True\n",
    "from IPython.display import Image \n",
    "\n",
    "start = time.time()\n",
    "xylo = input(\"hit enter. We're about to flash some pictures\")\n",
    "\n",
    "p = subprocess.Popen([\"display\", \"-resize\", \"800x800\", \"Pictures/logo_medium_tinteyantoo.png\"]) #great! finally!\n",
    "killtime()\n",
    "p.kill()"
   ]
  },
  {
   "cell_type": "code",
   "execution_count": 5,
   "metadata": {},
   "outputs": [],
   "source": [
    "from IPython.display import Image \n",
    "import time\n",
    "\n",
    "images = [\n",
    "    \"Pictures/logo_medium_tinteyantoo.png\",\n",
    "    \"Pictures/minimal sunrise.png\",\n",
    "    \"Pictures/temp4.png\",\n",
    "]\n",
    "\n",
    "userdata = {}\n",
    "\n",
    "#if at all it happens that someone other than vaze is using this, DO NOT RUN THIS the second time it will reset the whole frikin database\n",
    "# and do not restart the kernel. That'll refresh all the variables. (kernel is running in the background)"
   ]
  },
  {
   "cell_type": "markdown",
   "metadata": {},
   "source": [
    "# ECOLOGY'S OUR WAY\n",
    "\n",
    "#### Remember that you have only 5 seconds per image\n",
    "\n",
    "and for god's sake please enter integers less than your current available money"
   ]
  },
  {
   "cell_type": "code",
   "execution_count": 8,
   "metadata": {
    "scrolled": false
   },
   "outputs": [
    {
     "ename": "SyntaxError",
     "evalue": "invalid syntax (<ipython-input-8-4fb0460b3c74>, line 52)",
     "output_type": "error",
     "traceback": [
      "\u001b[0;36m  File \u001b[0;32m\"<ipython-input-8-4fb0460b3c74>\"\u001b[0;36m, line \u001b[0;32m52\u001b[0m\n\u001b[0;31m    prowess = ''' ('''HTML('''<script>\u001b[0m\n\u001b[0m                         ^\u001b[0m\n\u001b[0;31mSyntaxError\u001b[0m\u001b[0;31m:\u001b[0m invalid syntax\n"
     ]
    }
   ],
   "source": [
    "from IPython.display import HTML\n",
    "\n",
    "\n",
    "\n",
    "def killtime():\n",
    "    kill1 = time.time()\n",
    "    elapsed = 0\n",
    "    while elapsed < 1.024:\n",
    "        kill2 = time.time()\n",
    "        elapsed = kill2 - kill1\n",
    "    return True\n",
    "\n",
    "\n",
    "def impulsive():\n",
    "    #data = {}\n",
    "    money = 100\n",
    "    count = 0\n",
    "    usercash = []\n",
    "    username = input(\"gimme name: \")\n",
    "    input(\"Ready? press enter to begin..\")\n",
    "\n",
    "    while count < len(images):\n",
    "        if money > 0 :\n",
    "\n",
    "            #display(Image(filename=images[count], width = 500, height = 500))\n",
    "            p = subprocess.Popen([\"display\", \"-resize\", \"800x800\",  images[count]])\n",
    "            killtime()\n",
    "            p.kill()\n",
    "\n",
    "            start = time.time()\n",
    "            cashin = int(input(str(money) + \" coins left. Donate Money pls: \" ))\n",
    "            end = time.time()\n",
    "            usercash.append(cashin)\n",
    "            money = money - (cashin)\n",
    "        #print(money)\n",
    "        if money < 0:\n",
    "            print(str(usercash), 'You spent ' + str(sum(usercash)) + \" out of 100. You can't really do that you know.\")\n",
    "            return False\n",
    "        count += 1\n",
    "\n",
    "        if int(end - start) > 5:\n",
    "            print(\"whoops! time up. And \")\n",
    "            return False # this was break in the beginning but i realized correcting dimensions would be waaay too much work. So just reject the sample.\n",
    "        \n",
    "\n",
    "    print(money)\n",
    "    userdata[str(username)] = usercash\n",
    "\n",
    "\n",
    "    print(str(username) +  ', you spent ' + str(sum(usercash)) + ' coins out of 100 ')\n",
    "    \n",
    "\n",
    "\n",
    "#impulsive()\n",
    "\n"
   ]
  },
  {
   "cell_type": "code",
   "execution_count": 13,
   "metadata": {},
   "outputs": [
    {
     "name": "stdout",
     "output_type": "stream",
     "text": [
      "gimme name: 3\n",
      "Ready? press enter to begin..\n",
      "100 coins left. Donate Money pls: 8\n",
      "92 coins left. Donate Money pls: 80\n",
      "12 coins left. Donate Money pls: 8\n",
      "4\n",
      "3, you spent 96 coins out of 100 \n"
     ]
    }
   ],
   "source": [
    "impulsive()"
   ]
  },
  {
   "cell_type": "code",
   "execution_count": 19,
   "metadata": {},
   "outputs": [
    {
     "name": "stdout",
     "output_type": "stream",
     "text": [
      "{'1': [10, 50, 2], '2': [5, 5, 5], '3': [8, 80, 8]}\n"
     ]
    }
   ],
   "source": [
    "collection1 = userdata\n",
    "print(collection1)"
   ]
  },
  {
   "cell_type": "code",
   "execution_count": 27,
   "metadata": {},
   "outputs": [
    {
     "data": {
      "image/png": "[encoded data removed]",
      "text/plain": [
       "<Figure size 432x288 with 1 Axes>"
      ]
     },
     "metadata": {
      "needs_background": "light"
     },
     "output_type": "display_data"
    },
    {
     "data": {
      "image/png": "[encoded data removed]",
      "text/plain": [
       "<Figure size 432x288 with 1 Axes>"
      ]
     },
     "metadata": {},
     "output_type": "display_data"
    },
    {
     "data": {
      "image/png": "[encoded data removed]",
      "text/plain": [
       "<Figure size 432x288 with 1 Axes>"
      ]
     },
     "metadata": {
      "needs_background": "light"
     },
     "output_type": "display_data"
    }
   ],
   "source": [
    "# to plot image index vs money given to it, along with the name of the person to make everything look nice\n",
    "import matplotlib\n",
    "import matplotlib.pyplot as plt\n",
    "import numpy as np\n",
    "\n",
    "\n",
    "image1 = [j[0] for j in collection1.values()]\n",
    "image2 = [j[1] for j in collection1.values()]\n",
    "image3 = [j[2] for j in collection1.values()]\n",
    "\n",
    "fig = plt.figure()\n",
    "xlabel = np.arange(3)\n",
    "ylabel = [sum(image1), sum(image2), sum(image3)]\n",
    "\n",
    "ax = fig.add_subplot()\n",
    "ax.bar(xlabel, ylabel)\n",
    "plt.show()\n",
    "\n",
    "\n",
    "labels = 'tinteyantoo', 'sunrise', 'random scrot'\n",
    "sizes = ylabel\n",
    "explode = (0, 0.1, 0)\n",
    "\n",
    "fig1, ax1 = plt.subplots()\n",
    "\n",
    "ax1.pie(sizes, explode=explode, labels=labels, autopct='%1.1f%%',\n",
    "        shadow=True, startangle=90)\n",
    "ax1.axis('equal') \n",
    "\n",
    "plt.show()\n",
    "\n",
    "N = 3\n",
    "menMeans = (20, 35, 30, 35, 27)\n",
    "womenMeans = (25, 32, 34, 20, 25)\n",
    "menStd = (2, 3, 4, 1, 2)\n",
    "womenStd = (3, 5, 2, 3, 3)\n",
    "ind = np.arange(N)    # the x locations for the groups\n",
    "width = 0.35       # the width of the bars: can also be len(x) sequence\n",
    "\n",
    "p1 = plt.bar(ind, menMeans, width, yerr=menStd)\n",
    "p2 = plt.bar(ind, womenMeans, width,\n",
    "             bottom=menMeans, yerr=womenStd)\n",
    "\n",
    "plt.ylabel('Scores')\n",
    "plt.title('Scores by group and gender')\n",
    "plt.xticks(ind, ('G1', 'G2', 'G3', 'G4', 'G5'))\n",
    "plt.yticks(np.arange(0, 81, 10))\n",
    "plt.legend((p1[0], p2[0]), ('Men', 'Women'))\n",
    "\n",
    "plt.show()\n"
   ]
  },
  {
   "cell_type": "markdown",
   "metadata": {},
   "source": [
    "what kind of data are we collecting? and should the descriptive questions be a part of the same notebook"
   ]
  },
  {
   "cell_type": "code",
   "execution_count": 21,
   "metadata": {},
   "outputs": [
    {
     "data": {
      "text/html": [
       "<script>\n",
       "code_show=true; \n",
       "function code_toggle() {\n",
       " if (code_show){\n",
       " $('div.input').hide();\n",
       " } else {\n",
       " $('div.input').show();\n",
       " }\n",
       " code_show = !code_show\n",
       "} \n",
       "$( document ).ready(code_toggle);\n",
       "</script>\n",
       "<form action=\"javascript:code_toggle()\"><input type=\"submit\" value=\"toggle vaze's prowess\"></form>"
      ],
      "text/plain": [
       "<IPython.core.display.HTML object>"
      ]
     },
     "execution_count": 21,
     "metadata": {},
     "output_type": "execute_result"
    }
   ],
   "source": [
    "\n",
    "HTML('''<script>\n",
    "code_show=true; \n",
    "function code_toggle() {\n",
    " if (code_show){\n",
    " $('div.input').hide();\n",
    " } else {\n",
    " $('div.input').show();\n",
    " }\n",
    " code_show = !code_show\n",
    "} \n",
    "$( document ).ready(code_toggle);\n",
    "</script>\n",
    "<form action=\"javascript:code_toggle()\"><input type=\"submit\" value=\"toggle vaze's prowess\"></form>''')"
   ]
  },
  {
   "cell_type": "markdown",
   "metadata": {},
   "source": [
    "--------------------------------------------------------------------------------------------------------------\n",
    "### Context ( do not read yet please ) \n",
    "\n",
    "#### of course now you're reading\n",
    "\n",
    "Hypothesis:\n",
    "\n",
    "our null hypothesis is that there is no inherent cognitive bias towards conservation of species. \n",
    "\n",
    "We want to examine hot vs cold thinking process in this aspect.\n",
    "\n",
    "\n",
    "Testing out impulsive behaviour by giving the user virtual money to spend on conserving species. The user will be shown all the images in the beginning for 5 seconds, after which the user the will be shown images one by one on which he/she can give money. This is done by a computer GUI we've made.\n",
    "\n",
    "After this, there will be a descriptive section, which will describe the same species, without explicitly mentioning them, and the user will be asked to choose which species they'd rather conserve. This time it will be an informed choice, not based on images. ( the user will not know that the description is of the same species. )\n",
    "\n",
    "Each image set is defined by a impulsive behaviour test and a description test. \n",
    "Thus, each image set is a set of 2 questions, except for image set 3 and 4, in which there is only description, but we'll still show the images for additional data.\n",
    "\n",
    "as of now we're writing two species, but in the image sets we'll include more related species.\n",
    "\n",
    "image set 1: vulture and atlantic puffin ( possible biases to look out for: social stigma and appearance ) \n",
    "image set 2: furry animals vs scaled animal ( to be updated with the exact taxa later ) ( possible biases : appearance, resemblance to humans )\n",
    "image set 3: bengal tiger vs siberian tiger (to see if people would rather conserve endemic species)\n",
    "image set 4: bees vs wasps ( bias introduced would be that bees are more useful to us than wasps )\n",
    "image set 5: animals exhibiting extraordinary taxonomical uniqueness ( the ones that make beautuful nests, etc) (for eg, weaver birds, chameleons, vs common animals of similar species)\n",
    "\n",
    "The general questions:\n",
    "\n",
    "General question 1: \n",
    "Eichhornia Case Study:\n",
    "\n",
    "\"Eichhornia was introduced in Bengal by the British in India because of its beautiful flowers and shapes of leaves, but turned out to be an invasive weed draining oxygen from the water bodies and resulted in death of many fish. Fish is a supplement food in Bengal, and because of the fish scarcity in Bengal caused by Eichhornia, the water hyacinth is also called \"Terror of Bengal\"\"\n",
    "\n",
    "Question: Given a choice to restore the old ecosystem that was present before Eichhornia was brought to India, vs letting the new ecosystem flourish; what would you choose, and why?\n",
    "\n",
    "\n",
    "General question 2:\n",
    "\n",
    "Jerdon's courser:\n",
    "\n",
    "It is endemic to southern India, where it is principally known from southern Andhra Pradesh. It has an extremely limited geographical range being known from the Godaveri river valley near Sironcha and Bhadrachalam, and from the Cuddapah and Anantpur areas in the valley of the Pennar River. It is mostly active at dusk and during the night. Studies in this region using sand strips to detect footprints suggest that their preferred habitat has tall bushes at a density of 300 to 700 per hectare. They prefer barren lands.\n",
    "\n",
    "It's currently believed to be extinct. \n",
    "\n",
    "In the time period that it was spotted, in order to facilitate the conservation of the Jerdon's courser, trees were chopped in regions where it was most likely to be found. \n",
    "\n",
    "Question: Altering habitat might be a neccesity to conserve an endangered species. In the context of the above text, is it right to perturb the habitat of other species in this regard?\n",
    "\n",
    "\n",
    "\n",
    "\n",
    "\n",
    "\n",
    "\n",
    "\n"
   ]
  }
 ],
 "metadata": {
  "kernelspec": {
   "display_name": "Python 3",
   "language": "python",
   "name": "python3"
  },
  "language_info": {
   "codemirror_mode": {
    "name": "ipython",
    "version": 3
   },
   "file_extension": ".py",
   "mimetype": "text/x-python",
   "name": "python",
   "nbconvert_exporter": "python",
   "pygments_lexer": "ipython3",
   "version": "3.7.3"
  }
 },
 "nbformat": 4,
 "nbformat_minor": 2
}
